{
 "nbformat": 4,
 "nbformat_minor": 2,
 "metadata": {
  "language_info": {
   "name": "python",
   "codemirror_mode": {
    "name": "ipython",
    "version": 3
   },
   "version": "3.7.4-final"
  },
  "orig_nbformat": 2,
  "file_extension": ".py",
  "mimetype": "text/x-python",
  "name": "python",
  "npconvert_exporter": "python",
  "pygments_lexer": "ipython3",
  "version": 3,
  "kernelspec": {
   "name": "python3",
   "display_name": "Python 3"
  }
 },
 "cells": [
  {
   "cell_type": "markdown",
   "metadata": {},
   "source": [
    "# PySpark\n",
    "\n",
    "Spark is a data processing framework written in Java. It's made to run on clusters (several computers connected together) to process \"big data\" (data that doesn't fit on one computer).\n",
    "\n",
    "The python interface to Spark is `PySpark`\n",
    "\n",
    "The entry point to using Spark SQL is an object called SparkSession. It initiates a Spark Application which all the code for that Session will run on."
   ],
   "execution_count": null,
   "outputs": []
  },
  {
   "cell_type": "code",
   "execution_count": 1,
   "metadata": {},
   "outputs": [],
   "source": [
    "# This can help getting pyspark running\n",
    "# !apt-get install openjdk-8-jdk-headless -qq > /dev/null\n",
    "# !wget -q https://www-us.apache.org/dist/spark/spark-2.4.3/spark-2.4.3-bin-hadoop2.7.tgz\n",
    "# !tar xf spark-2.4.3-bin-hadoop2.7.tgz\n",
    "# !pip install -q findspark\n",
    "# import os\n",
    "# os.environ[\"JAVA_HOME\"] = \"/usr/lib/jvm/java-8-openjdk-amd64\"\n",
    "# os.environ[\"SPARK_HOME\"] = \"/content/spark-2.4.3-bin-hadoop2.7\"\n",
    "# import findspark\n",
    "# findspark.init()"
   ]
  },
  {
   "cell_type": "code",
   "execution_count": 2,
   "metadata": {},
   "outputs": [],
   "source": [
    "# you may have to conda or pip install pyspark\n",
    "# you also need java installed (sigh, I know)\n",
    "from pyspark.sql import SparkSession\n",
    "spark = (SparkSession.builder\n",
    "    .master(\"local[*]\")\n",
    "    .appName(\"Learning_Spark\")\n",
    "    .getOrCreate()\n",
    ")"
   ]
  },
  {
   "cell_type": "markdown",
   "metadata": {},
   "source": [
    "`.builder` — gives access to Builder API which is used to configure the session .\n",
    "\n",
    "`.master()` — determines where the program will run; \"local[*]\" sets it to run locally on all cores but you can use \"local[1]\" to run on one core for example. In this case, our programs will be run on Google’s servers.\n",
    "\n",
    "`.appName()` — optional method to name the Spark Application\n",
    "\n",
    "`.getOrCreate()` — gets an existing SparkSession or creates new one if none exists"
   ],
   "execution_count": null,
   "outputs": []
  },
  {
   "cell_type": "code",
   "execution_count": 3,
   "metadata": {},
   "outputs": [
    {
     "output_type": "stream",
     "name": "stdout",
     "text": "+--------------------+--------+---------------+------------+---------+--------+--------+--------+-----------+------------+------------+------------+----------+----------+---------+------+\n|                Name|Platform|Year_of_Release|       Genre|Publisher|NA_Sales|EU_Sales|JP_Sales|Other_Sales|Global_Sales|Critic_Score|Critic_Count|User_Score|User_Count|Developer|Rating|\n+--------------------+--------+---------------+------------+---------+--------+--------+--------+-----------+------------+------------+------------+----------+----------+---------+------+\n|          Wii Sports|     Wii|           2006|      Sports| Nintendo|   41.36|   28.96|    3.77|       8.45|       82.53|          76|          51|         8|       322| Nintendo|     E|\n|   Super Mario Bros.|     NES|           1985|    Platform| Nintendo|   29.08|    3.58|    6.81|       0.77|       40.24|        null|        null|      null|      null|     null|  null|\n|      Mario Kart Wii|     Wii|           2008|      Racing| Nintendo|   15.68|   12.76|    3.79|       3.29|       35.52|          82|          73|       8.3|       709| Nintendo|     E|\n|   Wii Sports Resort|     Wii|           2009|      Sports| Nintendo|   15.61|   10.93|    3.28|       2.95|       32.77|          80|          73|         8|       192| Nintendo|     E|\n|Pokemon Red/Pokem...|      GB|           1996|Role-Playing| Nintendo|   11.27|    8.89|   10.22|        1.0|       31.37|        null|        null|      null|      null|     null|  null|\n+--------------------+--------+---------------+------------+---------+--------+--------+--------+-----------+------------+------------+------------+----------+----------+---------+------+\nonly showing top 5 rows\n\n"
    }
   ],
   "source": [
    "data = spark.read.csv('data/vgsales.csv',inferSchema=True, header=True)\n",
    "# show is equivalent to head\n",
    "data.show(5)"
   ]
  },
  {
   "cell_type": "code",
   "execution_count": 4,
   "metadata": {},
   "outputs": [
    {
     "output_type": "stream",
     "name": "stdout",
     "text": "root\n |-- Name: string (nullable = true)\n |-- Platform: string (nullable = true)\n |-- Year_of_Release: string (nullable = true)\n |-- Genre: string (nullable = true)\n |-- Publisher: string (nullable = true)\n |-- NA_Sales: double (nullable = true)\n |-- EU_Sales: double (nullable = true)\n |-- JP_Sales: double (nullable = true)\n |-- Other_Sales: double (nullable = true)\n |-- Global_Sales: double (nullable = true)\n |-- Critic_Score: integer (nullable = true)\n |-- Critic_Count: integer (nullable = true)\n |-- User_Score: string (nullable = true)\n |-- User_Count: integer (nullable = true)\n |-- Developer: string (nullable = true)\n |-- Rating: string (nullable = true)\n\n"
    }
   ],
   "source": [
    "data.printSchema()"
   ]
  },
  {
   "cell_type": "code",
   "execution_count": 5,
   "metadata": {},
   "outputs": [
    {
     "output_type": "stream",
     "name": "stdout",
     "text": "+---------------------------+--------+--------+\n|Name                       |Platform|EU_Sales|\n+---------------------------+--------+--------+\n|Wii Sports                 |Wii     |28.96   |\n|Super Mario Bros.          |NES     |3.58    |\n|Mario Kart Wii             |Wii     |12.76   |\n|Wii Sports Resort          |Wii     |10.93   |\n|Pokemon Red/Pokemon Blue   |GB      |8.89    |\n|Tetris                     |GB      |2.26    |\n|New Super Mario Bros.      |DS      |9.14    |\n|Wii Play                   |Wii     |9.18    |\n|New Super Mario Bros. Wii  |Wii     |6.94    |\n|Duck Hunt                  |NES     |0.63    |\n|Nintendogs                 |DS      |10.95   |\n|Mario Kart DS              |DS      |7.47    |\n|Pokemon Gold/Pokemon Silver|GB      |6.18    |\n|Wii Fit                    |Wii     |8.03    |\n|Kinect Adventures!         |X360    |4.89    |\n+---------------------------+--------+--------+\nonly showing top 15 rows\n\n"
    }
   ],
   "source": [
    "(data.select(\"Name\",\"Platform\",\"EU_Sales\")\n",
    "     .show(15, truncate=False)\n",
    ")"
   ]
  },
  {
   "cell_type": "code",
   "execution_count": 6,
   "metadata": {},
   "outputs": [
    {
     "output_type": "stream",
     "name": "stdout",
     "text": "+--------+-----+\n|Platform|count|\n+--------+-----+\n|     PS2| 2161|\n|      DS| 2152|\n|     PS3| 1331|\n|     Wii| 1320|\n|    X360| 1262|\n|     PSP| 1209|\n|      PS| 1197|\n|      PC|  974|\n|      XB|  824|\n|     GBA|  822|\n+--------+-----+\nonly showing top 10 rows\n\n"
    }
   ],
   "source": [
    "(data.groupBy(\"Platform\")\n",
    "     .count()\n",
    "     .orderBy(\"count\", ascending=False)\n",
    "     .show(10)\n",
    ")"
   ]
  },
  {
   "cell_type": "markdown",
   "metadata": {},
   "source": [
    "# Filtering"
   ],
   "execution_count": null,
   "outputs": []
  },
  {
   "cell_type": "code",
   "execution_count": 7,
   "metadata": {},
   "outputs": [
    {
     "output_type": "stream",
     "name": "stdout",
     "text": "+--------------------------------------------+--------+---------------+--------+----------------------+--------+--------+--------+-----------+------------+------------+------------+----------+----------+-------------------+------+\n|Name                                        |Platform|Year_of_Release|Genre   |Publisher             |NA_Sales|EU_Sales|JP_Sales|Other_Sales|Global_Sales|Critic_Score|Critic_Count|User_Score|User_Count|Developer          |Rating|\n+--------------------------------------------+--------+---------------+--------+----------------------+--------+--------+--------+-----------+------------+------------+------------+----------+----------+-------------------+------+\n|Wii Sports                                  |Wii     |2006           |Sports  |Nintendo              |41.36   |28.96   |3.77    |8.45       |82.53       |76          |51          |8         |322       |Nintendo           |E     |\n|Mario Kart Wii                              |Wii     |2008           |Racing  |Nintendo              |15.68   |12.76   |3.79    |3.29       |35.52       |82          |73          |8.3       |709       |Nintendo           |E     |\n|Wii Sports Resort                           |Wii     |2009           |Sports  |Nintendo              |15.61   |10.93   |3.28    |2.95       |32.77       |80          |73          |8         |192       |Nintendo           |E     |\n|New Super Mario Bros.                       |DS      |2006           |Platform|Nintendo              |11.28   |9.14    |6.5     |2.88       |29.8        |89          |65          |8.5       |431       |Nintendo           |E     |\n|Wii Play                                    |Wii     |2006           |Misc    |Nintendo              |13.96   |9.18    |2.93    |2.84       |28.92       |58          |41          |6.6       |129       |Nintendo           |E     |\n|New Super Mario Bros. Wii                   |Wii     |2009           |Platform|Nintendo              |14.44   |6.94    |4.7     |2.24       |28.32       |87          |80          |8.4       |594       |Nintendo           |E     |\n|Mario Kart DS                               |DS      |2005           |Racing  |Nintendo              |9.71    |7.47    |4.13    |1.9        |23.21       |91          |64          |8.6       |464       |Nintendo           |E     |\n|Wii Fit                                     |Wii     |2007           |Sports  |Nintendo              |8.92    |8.03    |3.6     |2.15       |22.7        |80          |63          |7.7       |146       |Nintendo           |E     |\n|Kinect Adventures!                          |X360    |2010           |Misc    |Microsoft Game Studios|15.0    |4.89    |0.24    |1.69       |21.81       |61          |45          |6.3       |106       |Good Science Studio|E     |\n|Wii Fit Plus                                |Wii     |2009           |Sports  |Nintendo              |9.01    |8.49    |2.53    |1.77       |21.79       |80          |33          |7.4       |52        |Nintendo           |E     |\n|Grand Theft Auto V                          |PS3     |2013           |Action  |Take-Two Interactive  |7.02    |9.09    |0.98    |3.96       |21.04       |97          |50          |8.2       |3994      |Rockstar North     |M     |\n|Grand Theft Auto: San Andreas               |PS2     |2004           |Action  |Take-Two Interactive  |9.43    |0.4     |0.41    |10.57      |20.81       |95          |80          |9         |1588      |Rockstar North     |M     |\n|Brain Age: Train Your Brain in Minutes a Day|DS      |2005           |Misc    |Nintendo              |4.74    |9.2     |4.16    |2.04       |20.15       |77          |58          |7.9       |50        |Nintendo           |E     |\n|Grand Theft Auto V                          |X360    |2013           |Action  |Take-Two Interactive  |9.66    |5.14    |0.06    |1.41       |16.27       |97          |58          |8.1       |3711      |Rockstar North     |M     |\n|Grand Theft Auto: Vice City                 |PS2     |2002           |Action  |Take-Two Interactive  |8.41    |5.49    |0.47    |1.78       |16.15       |95          |62          |8.7       |730       |Rockstar North     |M     |\n+--------------------------------------------+--------+---------------+--------+----------------------+--------+--------+--------+-----------+------------+------------+------------+----------+----------+-------------------+------+\nonly showing top 15 rows\n\n"
    }
   ],
   "source": [
    "condition1 = (data.User_Score.isNotNull()) | (data.User_Count.isNotNull())\n",
    "condition2 = data.User_Score != \"tbd\"\n",
    "data = data.filter(condition1).filter(condition2)\n",
    "data.show(15,False)"
   ]
  },
  {
   "cell_type": "markdown",
   "metadata": {},
   "source": [
    "# Building Models in PySpark\n",
    "\n",
    "Building models in PySpark looks a little different than you might be used to, and you’ll see terms like Transformer, Estimator, and Param. This guide won’t go in-depth into what those terms mean but below is a link to a brief description of what they mean.\n",
    "\n"
   ],
   "execution_count": null,
   "outputs": []
  },
  {
   "cell_type": "code",
   "execution_count": 8,
   "metadata": {},
   "outputs": [
    {
     "output_type": "stream",
     "name": "stdout",
     "text": "+---------------+\n|Year_of_Release|\n+---------------+\n|1985           |\n|1988           |\n|1992           |\n|1994           |\n|1996           |\n|1997           |\n|1998           |\n|1999           |\n|2000           |\n|2001           |\n|2002           |\n|2003           |\n|2004           |\n|2005           |\n|2006           |\n|2007           |\n|2008           |\n|2009           |\n|2010           |\n|2011           |\n|2012           |\n|2013           |\n|2014           |\n|2015           |\n|2016           |\n|N/A            |\n+---------------+\n\n"
    }
   ],
   "source": [
    "data2= data.filter(data.Year_of_Release != \"N/A\")\n",
    "data.select(\"Year_of_Release\").distinct().orderBy(\"Year_of_Release\", ascending=True).show(50,False)"
   ]
  },
  {
   "cell_type": "code",
   "execution_count": 9,
   "metadata": {},
   "outputs": [],
   "source": [
    "from pyspark.sql.types import DoubleType\n",
    "#  withColumn either creates a new column or replaces one that already exists\n",
    "data = data.withColumn(\"Year_of_Release\", data[\"Year_of_Release\"].cast(DoubleType()))\n",
    "data = data.withColumn(\"User_Score\", data[\"User_Score\"].cast(DoubleType()))\n",
    "data = data.withColumn(\"Critic_Score\", data[\"Critic_Score\"].cast(DoubleType()))"
   ]
  },
  {
   "cell_type": "markdown",
   "metadata": {},
   "source": [
    "Here we’ve delineated what features we want our model to use as predictors so that VectorAssembler can take those columns and transform them into a single column (named “predictors”) that contains all the data we want to predict with.\n",
    "\n",
    "What VectorAssembler.transform() does is create a new DataFrame with a new column at the end where each row contains a list of all the features we included in the inputCols parameter when we created the assembler."
   ],
   "execution_count": null,
   "outputs": []
  },
  {
   "cell_type": "code",
   "execution_count": 10,
   "metadata": {},
   "outputs": [
    {
     "output_type": "execute_result",
     "data": {
      "text/plain": "['Name',\n 'Platform',\n 'Year_of_Release',\n 'Genre',\n 'Publisher',\n 'NA_Sales',\n 'EU_Sales',\n 'JP_Sales',\n 'Other_Sales',\n 'Global_Sales',\n 'Critic_Score',\n 'Critic_Count',\n 'User_Score',\n 'User_Count',\n 'Developer',\n 'Rating',\n 'predictors']"
     },
     "metadata": {},
     "execution_count": 10
    }
   ],
   "source": [
    "from pyspark.ml.feature import VectorAssembler\n",
    "inputcols = [\"Year_of_Release\",  \"Global_Sales\", \"Critic_Score\"]\n",
    "assembler = VectorAssembler(inputCols= inputcols,\n",
    "                            outputCol = \"predictors\")\n",
    "\n",
    "predictors = assembler.setHandleInvalid(\"skip\").transform(data)\n",
    "predictors = predictors.filter(\n",
    "    predictors.predictors.isNotNull()\n",
    "    |predictors.User_Score.isNotNull()\n",
    ")\n",
    "predictors.columns"
   ]
  },
  {
   "cell_type": "code",
   "execution_count": 11,
   "metadata": {},
   "outputs": [
    {
     "output_type": "stream",
     "name": "stdout",
     "text": "+-------------------+----------+\n|predictors         |User_Score|\n+-------------------+----------+\n|[2006.0,82.53,76.0]|8.0       |\n|[2008.0,35.52,82.0]|8.3       |\n|[2009.0,32.77,80.0]|8.0       |\n|[2006.0,29.8,89.0] |8.5       |\n|[2006.0,28.92,58.0]|6.6       |\n|[2009.0,28.32,87.0]|8.4       |\n|[2005.0,23.21,91.0]|8.6       |\n|[2007.0,22.7,80.0] |7.7       |\n|[2010.0,21.81,61.0]|6.3       |\n|[2009.0,21.79,80.0]|7.4       |\n+-------------------+----------+\nonly showing top 10 rows\n\n"
    }
   ],
   "source": [
    "model_data = predictors.select(\"predictors\", \"User_Score\")\n",
    "model_data.show(10,truncate=False)"
   ]
  },
  {
   "cell_type": "code",
   "execution_count": null,
   "metadata": {},
   "outputs": [],
   "source": [
    "train_data,test_data = model_data.randomSplit([0.8,0.2])\n",
    "\n",
    "from pyspark.ml.regression import LinearRegression\n",
    "lr = LinearRegression(\n",
    "    featuresCol = 'predictors', \n",
    "    labelCol = 'User_Score')\n",
    "lrModel = lr.fit(train_data)\n",
    "pred = lrModel.evaluate(test_data)"
   ]
  },
  {
   "cell_type": "code",
   "execution_count": null,
   "metadata": {},
   "outputs": [],
   "source": []
  },
  {
   "cell_type": "code",
   "execution_count": null,
   "metadata": {},
   "outputs": [],
   "source": []
  },
  {
   "cell_type": "code",
   "execution_count": null,
   "metadata": {},
   "outputs": [],
   "source": []
  }
 ]
}